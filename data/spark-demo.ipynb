{
 "cells": [
  {
   "cell_type": "markdown",
   "metadata": {},
   "source": [
    "<table>\n",
    "        <tr>\n",
    "          <th>Name<br></th>\n",
    "          <th>URL</th>\n",
    "        </tr>\n",
    "        <tr>\n",
    "          <td>Jupyter notebook on spark-master (get token from terminal)</td>\n",
    "          <td><a href=\"http://localhost:8888\">http://localhost:8888</a></td>\n",
    "        </tr>\n",
    "        <tr>\n",
    "          <td>Spark Master Web UI - Overall</td>\n",
    "          <td><a href=\"http://localhost:8080\">http://localhost:8080</a></td>\n",
    "        </tr>\n",
    "        <tr>\n",
    "          <td>Spark Master Web UI - App (when an app is running)</td>\n",
    "          <td><a href=\"http://localhost:4040\">http://localhost:4040</a></td>\n",
    "        </tr>\n",
    "        <tr>\n",
    "          <td>Spark Worker Web UI (only when enabled)</td>\n",
    "          <td><a href=\"http://localhost:8081\">http://localhost:8081</a></td>\n",
    "        </tr>\n",
    "      </table>"
   ]
  },
  {
   "cell_type": "code",
   "execution_count": 4,
   "metadata": {},
   "outputs": [],
   "source": [
    "import numpy as np\n",
    "import pandas as pd\n",
    "import matplotlib.pyplot as plt\n",
    "import seaborn as sns\n",
    "import os\n",
    "import json\n",
    "\n",
    "from pyspark.sql import SparkSession"
   ]
  },
  {
   "cell_type": "code",
   "execution_count": 6,
   "metadata": {},
   "outputs": [
    {
     "name": "stdout",
     "output_type": "stream",
     "text": [
      "spark://spark-master:7077\n"
     ]
    }
   ],
   "source": [
    "spark_master = 'spark://{}:{}'.format(os.environ['SPARK_MASTER_HOST'],\n",
    "                                    os.environ['SPARK_MASTER_PORT'])\n",
    "print(spark_master)"
   ]
  },
  {
   "cell_type": "code",
   "execution_count": 7,
   "metadata": {},
   "outputs": [],
   "source": [
    "spark = (SparkSession.builder\n",
    "         .master(spark_master)\n",
    "         .appName('my_app')\n",
    "         .getOrCreate())"
   ]
  },
  {
   "cell_type": "code",
   "execution_count": 8,
   "metadata": {},
   "outputs": [
    {
     "name": "stdout",
     "output_type": "stream",
     "text": [
      "+---+---+\n",
      "|  x|  y|\n",
      "+---+---+\n",
      "|  0|  0|\n",
      "|  1|  1|\n",
      "|  2|  2|\n",
      "|  3|  3|\n",
      "|  4|  4|\n",
      "|  5|  5|\n",
      "|  6|  6|\n",
      "|  7|  7|\n",
      "|  8|  8|\n",
      "|  9|  9|\n",
      "| 10| 10|\n",
      "| 11| 11|\n",
      "| 12| 12|\n",
      "| 13| 13|\n",
      "| 14| 14|\n",
      "| 15| 15|\n",
      "| 16| 16|\n",
      "| 17| 17|\n",
      "| 18| 18|\n",
      "| 19| 19|\n",
      "+---+---+\n",
      "only showing top 20 rows\n",
      "\n"
     ]
    }
   ],
   "source": [
    "df = spark.createDataFrame([(_, _) for _ in range(1000)], 'x INT, y INT')\n",
    "df.show()"
   ]
  },
  {
   "cell_type": "code",
   "execution_count": null,
   "metadata": {},
   "outputs": [],
   "source": []
  }
 ],
 "metadata": {
  "kernelspec": {
   "display_name": "Python 3",
   "language": "python",
   "name": "python3"
  },
  "language_info": {
   "codemirror_mode": {
    "name": "ipython",
    "version": 3
   },
   "file_extension": ".py",
   "mimetype": "text/x-python",
   "name": "python",
   "nbconvert_exporter": "python",
   "pygments_lexer": "ipython3",
   "version": "3.6.9"
  }
 },
 "nbformat": 4,
 "nbformat_minor": 4
}
